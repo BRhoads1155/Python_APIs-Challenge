{
 "cells": [
  {
   "cell_type": "markdown",
   "metadata": {},
   "source": [
    "# VacationPy\n",
    "----\n",
    "\n",
    "#### Note\n",
    "* Keep an eye on your API usage. Use https://developers.google.com/maps/reporting/gmp-reporting as reference for how to monitor your usage and billing.\n",
    "\n",
    "* Instructions have been included for each segment. You do not have to follow them exactly, but they are included to help you think through the steps."
   ]
  },
  {
   "cell_type": "code",
   "execution_count": 2,
   "metadata": {},
   "outputs": [],
   "source": [
    "# Dependencies and Setup\n",
    "import matplotlib.pyplot as plt\n",
    "import pandas as pd\n",
    "import numpy as np\n",
    "import requests\n",
    "import gmaps\n",
    "import os\n",
    "\n",
    "# Import API key\n",
    "from api_keys import g_key"
   ]
  },
  {
   "cell_type": "markdown",
   "metadata": {},
   "source": [
    "### Store Part I results into DataFrame\n",
    "* Load the csv exported in Part I to a DataFrame"
   ]
  },
  {
   "cell_type": "code",
   "execution_count": 3,
   "metadata": {},
   "outputs": [
    {
     "output_type": "execute_result",
     "data": {
      "text/plain": "              City    Lat     Lng  Max Temp  Humidity  Cloudiness  Wind Speed  \\\n0         Cidreira -30.18  -50.21     62.58        91           0       16.80   \n1  Dzilam González  21.28  -88.93     79.97        86          99        8.10   \n2           Albany  42.60  -73.97     73.99        90         100        6.26   \n3       Butaritari   3.07  172.79     83.39        73         100       13.13   \n4           Castro -24.79  -50.01     57.85        96           7        5.95   \n\n  Country        Date  \n0      BR  1599096251  \n1      MX  1599096251  \n2      US  1599096114  \n3      KI  1599096251  \n4      BR  1599095993  ",
      "text/html": "<div>\n<style scoped>\n    .dataframe tbody tr th:only-of-type {\n        vertical-align: middle;\n    }\n\n    .dataframe tbody tr th {\n        vertical-align: top;\n    }\n\n    .dataframe thead th {\n        text-align: right;\n    }\n</style>\n<table border=\"1\" class=\"dataframe\">\n  <thead>\n    <tr style=\"text-align: right;\">\n      <th></th>\n      <th>City</th>\n      <th>Lat</th>\n      <th>Lng</th>\n      <th>Max Temp</th>\n      <th>Humidity</th>\n      <th>Cloudiness</th>\n      <th>Wind Speed</th>\n      <th>Country</th>\n      <th>Date</th>\n    </tr>\n  </thead>\n  <tbody>\n    <tr>\n      <th>0</th>\n      <td>Cidreira</td>\n      <td>-30.18</td>\n      <td>-50.21</td>\n      <td>62.58</td>\n      <td>91</td>\n      <td>0</td>\n      <td>16.80</td>\n      <td>BR</td>\n      <td>1599096251</td>\n    </tr>\n    <tr>\n      <th>1</th>\n      <td>Dzilam González</td>\n      <td>21.28</td>\n      <td>-88.93</td>\n      <td>79.97</td>\n      <td>86</td>\n      <td>99</td>\n      <td>8.10</td>\n      <td>MX</td>\n      <td>1599096251</td>\n    </tr>\n    <tr>\n      <th>2</th>\n      <td>Albany</td>\n      <td>42.60</td>\n      <td>-73.97</td>\n      <td>73.99</td>\n      <td>90</td>\n      <td>100</td>\n      <td>6.26</td>\n      <td>US</td>\n      <td>1599096114</td>\n    </tr>\n    <tr>\n      <th>3</th>\n      <td>Butaritari</td>\n      <td>3.07</td>\n      <td>172.79</td>\n      <td>83.39</td>\n      <td>73</td>\n      <td>100</td>\n      <td>13.13</td>\n      <td>KI</td>\n      <td>1599096251</td>\n    </tr>\n    <tr>\n      <th>4</th>\n      <td>Castro</td>\n      <td>-24.79</td>\n      <td>-50.01</td>\n      <td>57.85</td>\n      <td>96</td>\n      <td>7</td>\n      <td>5.95</td>\n      <td>BR</td>\n      <td>1599095993</td>\n    </tr>\n  </tbody>\n</table>\n</div>"
     },
     "metadata": {},
     "execution_count": 3
    }
   ],
   "source": [
    "part_one_df = pd.read_csv(\"Output/WeatherDataCities2.csv\", encoding=\"utf-8\")\n",
    "part_one_df.head()\n"
   ]
  },
  {
   "cell_type": "markdown",
   "metadata": {},
   "source": [
    "### Humidity Heatmap\n",
    "* Configure gmaps.\n",
    "* Use the Lat and Lng as locations and Humidity as the weight.\n",
    "* Add Heatmap layer to map."
   ]
  },
  {
   "cell_type": "code",
   "execution_count": 4,
   "metadata": {},
   "outputs": [],
   "source": [
    "humidity = part_one_df[\"Humidity\"].astype(float)\n",
    "max_humidity = humidity.max()\n",
    "cities = part_one_df[[\"Lat\", \"Lng\"]]"
   ]
  },
  {
   "cell_type": "code",
   "execution_count": 6,
   "metadata": {},
   "outputs": [
    {
     "output_type": "display_data",
     "data": {
      "text/plain": "Figure(layout=FigureLayout(height='420px'))",
      "application/vnd.jupyter.widget-view+json": {
       "version_major": 2,
       "version_minor": 0,
       "model_id": "088f335aa0684416882b6436ef912149"
      }
     },
     "metadata": {}
    }
   ],
   "source": [
    "gmaps.configure(api_key=g_key) \n",
    "fig1 = gmaps.figure()\n",
    "heat_layer = gmaps.heatmap_layer(cities, weights=humidity,dissipating=False, max_intensity=max_humidity,point_radius=3)\n",
    "fig1.add_layer(heat_layer)\n",
    "fig1"
   ]
  },
  {
   "cell_type": "markdown",
   "metadata": {},
   "source": [
    "### Create new DataFrame fitting weather criteria\n",
    "* Narrow down the cities to fit weather conditions.\n",
    "* Drop any rows will null values."
   ]
  },
  {
   "cell_type": "code",
   "execution_count": 7,
   "metadata": {},
   "outputs": [
    {
     "output_type": "execute_result",
     "data": {
      "text/plain": "                 City    Lat     Lng  Max Temp  Humidity  Cloudiness  \\\n0     Lázaro Cárdenas  17.96 -102.20     79.74        81           0   \n1  São Félix do Xingu  -6.64  -51.99     76.71        39           0   \n2          Nouadhibou  20.93  -17.03     77.00        61           0   \n3             Zhangye  38.93  100.45     70.09        22           0   \n4          Abu Samrah  35.30   37.18     75.45        68           0   \n\n   Wind Speed Country        Date  \n0        5.75      MX  1599096259  \n1        1.50      BR  1599096260  \n2        9.17      MR  1599096266  \n3        1.23      CN  1599096267  \n4        1.36      SY  1599096274  ",
      "text/html": "<div>\n<style scoped>\n    .dataframe tbody tr th:only-of-type {\n        vertical-align: middle;\n    }\n\n    .dataframe tbody tr th {\n        vertical-align: top;\n    }\n\n    .dataframe thead th {\n        text-align: right;\n    }\n</style>\n<table border=\"1\" class=\"dataframe\">\n  <thead>\n    <tr style=\"text-align: right;\">\n      <th></th>\n      <th>City</th>\n      <th>Lat</th>\n      <th>Lng</th>\n      <th>Max Temp</th>\n      <th>Humidity</th>\n      <th>Cloudiness</th>\n      <th>Wind Speed</th>\n      <th>Country</th>\n      <th>Date</th>\n    </tr>\n  </thead>\n  <tbody>\n    <tr>\n      <th>0</th>\n      <td>Lázaro Cárdenas</td>\n      <td>17.96</td>\n      <td>-102.20</td>\n      <td>79.74</td>\n      <td>81</td>\n      <td>0</td>\n      <td>5.75</td>\n      <td>MX</td>\n      <td>1599096259</td>\n    </tr>\n    <tr>\n      <th>1</th>\n      <td>São Félix do Xingu</td>\n      <td>-6.64</td>\n      <td>-51.99</td>\n      <td>76.71</td>\n      <td>39</td>\n      <td>0</td>\n      <td>1.50</td>\n      <td>BR</td>\n      <td>1599096260</td>\n    </tr>\n    <tr>\n      <th>2</th>\n      <td>Nouadhibou</td>\n      <td>20.93</td>\n      <td>-17.03</td>\n      <td>77.00</td>\n      <td>61</td>\n      <td>0</td>\n      <td>9.17</td>\n      <td>MR</td>\n      <td>1599096266</td>\n    </tr>\n    <tr>\n      <th>3</th>\n      <td>Zhangye</td>\n      <td>38.93</td>\n      <td>100.45</td>\n      <td>70.09</td>\n      <td>22</td>\n      <td>0</td>\n      <td>1.23</td>\n      <td>CN</td>\n      <td>1599096267</td>\n    </tr>\n    <tr>\n      <th>4</th>\n      <td>Abu Samrah</td>\n      <td>35.30</td>\n      <td>37.18</td>\n      <td>75.45</td>\n      <td>68</td>\n      <td>0</td>\n      <td>1.36</td>\n      <td>SY</td>\n      <td>1599096274</td>\n    </tr>\n  </tbody>\n</table>\n</div>"
     },
     "metadata": {},
     "execution_count": 7
    }
   ],
   "source": [
    "fewer_cities_df = part_one_df.loc[(part_one_df[\"Max Temp\"] > 70) & (part_one_df[\"Max Temp\"] < 80) & (part_one_df[\"Cloudiness\"] == 0) & (part_one_df[\"Wind Speed\"] < 10), :]\n",
    "fewer_cities_df = fewer_cities_df.dropna(how='any')\n",
    "fewer_cities_df.reset_index(inplace=True)\n",
    "del fewer_cities_df['index']\n",
    "fewer_cities_df.head()"
   ]
  },
  {
   "cell_type": "markdown",
   "metadata": {},
   "source": [
    "### Hotel Map\n",
    "* Store into variable named `hotel_df`.\n",
    "* Add a \"Hotel Name\" column to the DataFrame.\n",
    "* Set parameters to search for hotels with 5000 meters.\n",
    "* Hit the Google Places API for each city's coordinates.\n",
    "* Store the first Hotel result into the DataFrame.\n",
    "* Plot markers on top of the heatmap."
   ]
  },
  {
   "cell_type": "code",
   "execution_count": 8,
   "metadata": {},
   "outputs": [
    {
     "output_type": "execute_result",
     "data": {
      "text/plain": "                 City    Lat     Lng  Max Temp  Humidity  Cloudiness  \\\n0     Lázaro Cárdenas  17.96 -102.20     79.74        81           0   \n1  São Félix do Xingu  -6.64  -51.99     76.71        39           0   \n2          Nouadhibou  20.93  -17.03     77.00        61           0   \n3             Zhangye  38.93  100.45     70.09        22           0   \n4          Abu Samrah  35.30   37.18     75.45        68           0   \n\n   Wind Speed Country        Date          Hotel Name  \n0        5.75      MX  1599096259     Lázaro Cárdenas  \n1        1.50      BR  1599096260  São Félix do Xingu  \n2        9.17      MR  1599096266          Nouadhibou  \n3        1.23      CN  1599096267             Zhangye  \n4        1.36      SY  1599096274               Suruj  ",
      "text/html": "<div>\n<style scoped>\n    .dataframe tbody tr th:only-of-type {\n        vertical-align: middle;\n    }\n\n    .dataframe tbody tr th {\n        vertical-align: top;\n    }\n\n    .dataframe thead th {\n        text-align: right;\n    }\n</style>\n<table border=\"1\" class=\"dataframe\">\n  <thead>\n    <tr style=\"text-align: right;\">\n      <th></th>\n      <th>City</th>\n      <th>Lat</th>\n      <th>Lng</th>\n      <th>Max Temp</th>\n      <th>Humidity</th>\n      <th>Cloudiness</th>\n      <th>Wind Speed</th>\n      <th>Country</th>\n      <th>Date</th>\n      <th>Hotel Name</th>\n    </tr>\n  </thead>\n  <tbody>\n    <tr>\n      <th>0</th>\n      <td>Lázaro Cárdenas</td>\n      <td>17.96</td>\n      <td>-102.20</td>\n      <td>79.74</td>\n      <td>81</td>\n      <td>0</td>\n      <td>5.75</td>\n      <td>MX</td>\n      <td>1599096259</td>\n      <td>Lázaro Cárdenas</td>\n    </tr>\n    <tr>\n      <th>1</th>\n      <td>São Félix do Xingu</td>\n      <td>-6.64</td>\n      <td>-51.99</td>\n      <td>76.71</td>\n      <td>39</td>\n      <td>0</td>\n      <td>1.50</td>\n      <td>BR</td>\n      <td>1599096260</td>\n      <td>São Félix do Xingu</td>\n    </tr>\n    <tr>\n      <th>2</th>\n      <td>Nouadhibou</td>\n      <td>20.93</td>\n      <td>-17.03</td>\n      <td>77.00</td>\n      <td>61</td>\n      <td>0</td>\n      <td>9.17</td>\n      <td>MR</td>\n      <td>1599096266</td>\n      <td>Nouadhibou</td>\n    </tr>\n    <tr>\n      <th>3</th>\n      <td>Zhangye</td>\n      <td>38.93</td>\n      <td>100.45</td>\n      <td>70.09</td>\n      <td>22</td>\n      <td>0</td>\n      <td>1.23</td>\n      <td>CN</td>\n      <td>1599096267</td>\n      <td>Zhangye</td>\n    </tr>\n    <tr>\n      <th>4</th>\n      <td>Abu Samrah</td>\n      <td>35.30</td>\n      <td>37.18</td>\n      <td>75.45</td>\n      <td>68</td>\n      <td>0</td>\n      <td>1.36</td>\n      <td>SY</td>\n      <td>1599096274</td>\n      <td>Suruj</td>\n    </tr>\n  </tbody>\n</table>\n</div>"
     },
     "metadata": {},
     "execution_count": 8
    }
   ],
   "source": [
    "hotellist = []\n",
    "\n",
    "for i in range(len(fewer_cities_df)):\n",
    "    lat = fewer_cities_df.loc[i]['Lat']\n",
    "    lng = fewer_cities_df.loc[i]['Lng']\n",
    "\n",
    "    params = {\n",
    "        \"location\": f\"{lat},{lng}\",\n",
    "        \"radius\": 5000,\n",
    "        \"types\" : \"hotel\",\n",
    "        \"key\": g_key\n",
    "    }\n",
    "    \n",
    "    base_url = \"https://maps.googleapis.com/maps/api/place/nearbysearch/json\"\n",
    "    requested = requests.get(base_url, params=params)\n",
    "    response = requested.json()\n",
    "    try:\n",
    "        hotellist.append(response['results'][0]['name'])\n",
    "    except:\n",
    "        hotellist.append(\"\")\n",
    "fewer_cities_df[\"Hotel Name\"] = hotellist\n",
    "fewer_cities_df = fewer_cities_df.dropna(how='any')\n",
    "fewer_cities_df.head()"
   ]
  },
  {
   "cell_type": "code",
   "execution_count": 13,
   "metadata": {},
   "outputs": [],
   "source": [
    "# NOTE: Do not change any of the code in this cell\n",
    "\n",
    "# Using the template add the hotel marks to the heatmap\n",
    "info_box_template = \"\"\"\n",
    "<dl>\n",
    "<dt>Name</dt><dd>{Hotel Name}</dd>\n",
    "<dt>City</dt><dd>{City}</dd>\n",
    "<dt>Country</dt><dd>{Country}</dd>\n",
    "</dl>\n",
    "\"\"\"\n",
    "# Store the DataFrame Row\n",
    "# NOTE: be sure to update with your DataFrame name\n",
    "hotel_info = [info_box_template.format(**row) for index, row in fewer_cities_df.iterrows()]\n",
    "locations = fewer_cities_df[[\"Lat\", \"Lng\"]]"
   ]
  },
  {
   "cell_type": "code",
   "execution_count": 14,
   "metadata": {},
   "outputs": [
    {
     "output_type": "display_data",
     "data": {
      "text/plain": "Figure(layout=FigureLayout(height='420px'))",
      "application/vnd.jupyter.widget-view+json": {
       "version_major": 2,
       "version_minor": 0,
       "model_id": "088f335aa0684416882b6436ef912149"
      }
     },
     "metadata": {}
    }
   ],
   "source": [
    "# Add marker layer ontop of heat map\n",
    "markers = gmaps.marker_layer(locations)\n",
    "fig1.add_layer(markers)\n",
    "\n",
    "\n",
    "# Display figure\n",
    "fig1"
   ]
  },
  {
   "cell_type": "code",
   "execution_count": null,
   "metadata": {},
   "outputs": [],
   "source": [
    "fig1"
   ]
  },
  {
   "cell_type": "code",
   "execution_count": null,
   "metadata": {},
   "outputs": [],
   "source": []
  }
 ],
 "metadata": {
  "kernelspec": {
   "display_name": "Python 3.6.10 64-bit ('PythonData': conda)",
   "language": "python",
   "name": "python_defaultSpec_1599612259000"
  },
  "language_info": {
   "codemirror_mode": {
    "name": "ipython",
    "version": 3
   },
   "file_extension": ".py",
   "mimetype": "text/x-python",
   "name": "python",
   "nbconvert_exporter": "python",
   "pygments_lexer": "ipython3",
   "version": "3.6.10-final"
  },
  "latex_envs": {
   "LaTeX_envs_menu_present": true,
   "autoclose": false,
   "autocomplete": true,
   "bibliofile": "biblio.bib",
   "cite_by": "apalike",
   "current_citInitial": 1,
   "eqLabelWithNumbers": true,
   "eqNumInitial": 1,
   "hotkeys": {
    "equation": "Ctrl-E",
    "itemize": "Ctrl-I"
   },
   "labels_anchors": false,
   "latex_user_defs": false,
   "report_style_numbering": false,
   "user_envs_cfg": false
  }
 },
 "nbformat": 4,
 "nbformat_minor": 4
}